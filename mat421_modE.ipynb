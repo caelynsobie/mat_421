{
  "nbformat": 4,
  "nbformat_minor": 0,
  "metadata": {
    "colab": {
      "name": "mat421_modE",
      "provenance": []
    },
    "kernelspec": {
      "name": "python3",
      "display_name": "Python 3"
    },
    "language_info": {
      "name": "python"
    }
  },
  "cells": [
    {
      "cell_type": "markdown",
      "source": [
        "Practice taking derivatives"
      ],
      "metadata": {
        "id": "_dVVuRWCYnOc"
      }
    },
    {
      "cell_type": "code",
      "execution_count": 8,
      "metadata": {
        "colab": {
          "base_uri": "https://localhost:8080/",
          "height": 39
        },
        "id": "WHkJ3J8gYbxc",
        "outputId": "9fa17180-d701-4e62-bd03-0acddc2b46e1"
      },
      "outputs": [
        {
          "output_type": "execute_result",
          "data": {
            "text/latex": "$\\displaystyle 5 x^{4}$",
            "text/plain": [
              "5*x**4"
            ]
          },
          "metadata": {},
          "execution_count": 8
        }
      ],
      "source": [
        "from sympy import *\n",
        "x = sym.Symbol('x')\n",
        "sym.diff(x**5)"
      ]
    },
    {
      "cell_type": "markdown",
      "source": [
        "product rule:"
      ],
      "metadata": {
        "id": "A8tFCHjBa0ve"
      }
    },
    {
      "cell_type": "code",
      "source": [
        "sym.diff((x**2+1)*sym.cos(x))"
      ],
      "metadata": {
        "colab": {
          "base_uri": "https://localhost:8080/",
          "height": 39
        },
        "id": "CH8Z7X-AbHWD",
        "outputId": "3bec9802-1392-42bd-b147-e65ae4a2a7e4"
      },
      "execution_count": 9,
      "outputs": [
        {
          "output_type": "execute_result",
          "data": {
            "text/latex": "$\\displaystyle 2 x \\cos{\\left(x \\right)} - \\left(x^{2} + 1\\right) \\sin{\\left(x \\right)}$",
            "text/plain": [
              "2*x*cos(x) - (x**2 + 1)*sin(x)"
            ]
          },
          "metadata": {},
          "execution_count": 9
        }
      ]
    },
    {
      "cell_type": "markdown",
      "source": [
        "chain rule:"
      ],
      "metadata": {
        "id": "EDBqevGLb9K5"
      }
    },
    {
      "cell_type": "code",
      "source": [
        "sym.diff((x**2 - 3*x + 5)**3)"
      ],
      "metadata": {
        "colab": {
          "base_uri": "https://localhost:8080/",
          "height": 41
        },
        "id": "muROr8vPb-hy",
        "outputId": "fd453ae0-0622-4a4d-b4e2-8b7711e31f08"
      },
      "execution_count": 10,
      "outputs": [
        {
          "output_type": "execute_result",
          "data": {
            "text/latex": "$\\displaystyle \\left(6 x - 9\\right) \\left(x^{2} - 3 x + 5\\right)^{2}$",
            "text/plain": [
              "(6*x - 9)*(x**2 - 3*x + 5)**2"
            ]
          },
          "metadata": {},
          "execution_count": 10
        }
      ]
    },
    {
      "cell_type": "markdown",
      "source": [
        "derivative of a multi-variable function"
      ],
      "metadata": {
        "id": "fKAn6BdUcGKU"
      }
    },
    {
      "cell_type": "code",
      "source": [
        "x, y = sym.symbols('x y')\n",
        "sym.diff(x**2 * y, x)"
      ],
      "metadata": {
        "colab": {
          "base_uri": "https://localhost:8080/",
          "height": 39
        },
        "id": "IEd7DnlscJIF",
        "outputId": "36a45c67-e473-4851-9602-4e9babe13e30"
      },
      "execution_count": 11,
      "outputs": [
        {
          "output_type": "execute_result",
          "data": {
            "text/latex": "$\\displaystyle 2 x y$",
            "text/plain": [
              "2*x*y"
            ]
          },
          "metadata": {},
          "execution_count": 11
        }
      ]
    },
    {
      "cell_type": "code",
      "source": [
        "sym.diff(x**2 * y, y)"
      ],
      "metadata": {
        "colab": {
          "base_uri": "https://localhost:8080/",
          "height": 39
        },
        "id": "eZL9ExJMcXYD",
        "outputId": "0e6d5f03-70a3-4268-ea86-cef7615a8f78"
      },
      "execution_count": 13,
      "outputs": [
        {
          "output_type": "execute_result",
          "data": {
            "text/latex": "$\\displaystyle x^{2}$",
            "text/plain": [
              "x**2"
            ]
          },
          "metadata": {},
          "execution_count": 13
        }
      ]
    },
    {
      "cell_type": "markdown",
      "source": [
        "Now we practice integrating:"
      ],
      "metadata": {
        "id": "ckQUm5HydqDQ"
      }
    },
    {
      "cell_type": "code",
      "source": [
        "from scipy.integrate import quad \n",
        "import numpy as np\n",
        "I_quad, est_err_quad = \\\n",
        "          quad(np.sin, 0, np.pi)\n",
        "print(I_quad)"
      ],
      "metadata": {
        "colab": {
          "base_uri": "https://localhost:8080/"
        },
        "id": "JEEPpIoPd0oT",
        "outputId": "7a3f10a7-6161-4611-81d6-733384f81e2e"
      },
      "execution_count": 17,
      "outputs": [
        {
          "output_type": "stream",
          "name": "stdout",
          "text": [
            "2.0\n"
          ]
        }
      ]
    }
  ]
}