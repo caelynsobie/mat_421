{
  "nbformat": 4,
  "nbformat_minor": 0,
  "metadata": {
    "colab": {
      "name": "mat421_modD",
      "provenance": []
    },
    "kernelspec": {
      "name": "python3",
      "display_name": "Python 3"
    },
    "language_info": {
      "name": "python"
    }
  },
  "cells": [
    {
      "cell_type": "code",
      "execution_count": 27,
      "metadata": {
        "id": "vphRz28ArhLS"
      },
      "outputs": [],
      "source": [
        "import numpy as np\n",
        "import scipy"
      ]
    },
    {
      "cell_type": "markdown",
      "source": [
        "Let's try some matrix multiplication"
      ],
      "metadata": {
        "id": "k5YCxXrcr2H5"
      }
    },
    {
      "cell_type": "code",
      "source": [
        "x = np.matrix(\"4.;5.\")\n",
        "A = np.matrix([[1.,2], [3,4], [5,6]])\n",
        "A*x"
      ],
      "metadata": {
        "colab": {
          "base_uri": "https://localhost:8080/"
        },
        "id": "7VUy-xlfr5dc",
        "outputId": "56ceee86-e42c-4690-96b2-ca6bbcc176e3"
      },
      "execution_count": 28,
      "outputs": [
        {
          "output_type": "execute_result",
          "data": {
            "text/plain": [
              "matrix([[14.],\n",
              "        [32.],\n",
              "        [50.]])"
            ]
          },
          "metadata": {},
          "execution_count": 28
        }
      ]
    },
    {
      "cell_type": "markdown",
      "source": [
        "Find the dot product of A and B"
      ],
      "metadata": {
        "id": "2WtFWSDoYgDb"
      }
    },
    {
      "cell_type": "code",
      "source": [
        " A = np.array([[1,2],[3,4]])\n",
        " b = np.array([10, 20])\n",
        " np.dot(A,b)"
      ],
      "metadata": {
        "colab": {
          "base_uri": "https://localhost:8080/"
        },
        "id": "-kOrCs-GYj5p",
        "outputId": "c60da592-2e18-465c-e7de-5537ae268877"
      },
      "execution_count": 29,
      "outputs": [
        {
          "output_type": "execute_result",
          "data": {
            "text/plain": [
              "array([ 50, 110])"
            ]
          },
          "metadata": {},
          "execution_count": 29
        }
      ]
    },
    {
      "cell_type": "markdown",
      "source": [
        "Solve Ax=b given A and B"
      ],
      "metadata": {
        "id": "TkBxiIN-ZavP"
      }
    },
    {
      "cell_type": "code",
      "source": [
        "from numpy.linalg import solve\n",
        "solve(A,b)"
      ],
      "metadata": {
        "colab": {
          "base_uri": "https://localhost:8080/"
        },
        "id": "pkbK8fmyZgPi",
        "outputId": "aed6e2e1-1c03-459f-c732-c5c5c6890779"
      },
      "execution_count": 30,
      "outputs": [
        {
          "output_type": "execute_result",
          "data": {
            "text/plain": [
              "array([0., 5.])"
            ]
          },
          "metadata": {},
          "execution_count": 30
        }
      ]
    },
    {
      "cell_type": "markdown",
      "source": [
        "Find the eigenvalues and eigenvectors of A"
      ],
      "metadata": {
        "id": "XSnPq1yeZ2Cf"
      }
    },
    {
      "cell_type": "code",
      "source": [
        "from numpy.linalg import eig\n",
        "eigen_val, eigen_vec = eig(A)\n",
        "print(eigen_val)\n",
        "print(eigen_vec)"
      ],
      "metadata": {
        "colab": {
          "base_uri": "https://localhost:8080/"
        },
        "id": "qNbZqipqaSpB",
        "outputId": "a29a5ae1-f2e2-445c-cf15-21273ba6a5ad"
      },
      "execution_count": 31,
      "outputs": [
        {
          "output_type": "stream",
          "name": "stdout",
          "text": [
            "[-0.37228132  5.37228132]\n",
            "[[-0.82456484 -0.41597356]\n",
            " [ 0.56576746 -0.90937671]]\n"
          ]
        }
      ]
    },
    {
      "cell_type": "markdown",
      "source": [
        "We want to solve $ \\int_{0}^{3} x^4 \\,dx = \\frac{243}{4}$"
      ],
      "metadata": {
        "id": "d-kYXk5oauFp"
      }
    },
    {
      "cell_type": "code",
      "source": [
        "from scipy.integrate import quad\n",
        "quad(lambda x: x**4, 0, 3)"
      ],
      "metadata": {
        "colab": {
          "base_uri": "https://localhost:8080/"
        },
        "id": "w-bs472vb7G1",
        "outputId": "0ee2c878-f859-4add-f4ee-06f6f5b55288"
      },
      "execution_count": 32,
      "outputs": [
        {
          "output_type": "execute_result",
          "data": {
            "text/plain": [
              "(48.599999999999994, 5.39568389967826e-13)"
            ]
          },
          "metadata": {},
          "execution_count": 32
        }
      ]
    },
    {
      "cell_type": "markdown",
      "source": [
        "Compute the determinant"
      ],
      "metadata": {
        "id": "RYjJGNp5cjQL"
      }
    },
    {
      "cell_type": "code",
      "source": [
        "x = np.random.rand(4,4)\n",
        "np.linalg.det(x)"
      ],
      "metadata": {
        "colab": {
          "base_uri": "https://localhost:8080/"
        },
        "id": "1InGhV4XcmCu",
        "outputId": "f4b13c04-d0aa-43d4-90cf-974f616f8dc1"
      },
      "execution_count": 33,
      "outputs": [
        {
          "output_type": "execute_result",
          "data": {
            "text/plain": [
              "0.029675718387822306"
            ]
          },
          "metadata": {},
          "execution_count": 33
        }
      ]
    },
    {
      "cell_type": "markdown",
      "source": [
        "Compute the projection of a onto b"
      ],
      "metadata": {
        "id": "ytYS4tnads9u"
      }
    },
    {
      "cell_type": "code",
      "source": [
        "a = np.array([4,5,6])\n",
        "b = np.array([7,8,9])\n",
        "proj_b_a = np.inner(a,b) / np.inner(b,b) * b\n",
        "proj_b_a"
      ],
      "metadata": {
        "colab": {
          "base_uri": "https://localhost:8080/"
        },
        "id": "R4xl8uTIdtRc",
        "outputId": "7e6981d6-f392-4172-f002-3419b52594a1"
      },
      "execution_count": 34,
      "outputs": [
        {
          "output_type": "execute_result",
          "data": {
            "text/plain": [
              "array([4.40206186, 5.03092784, 5.65979381])"
            ]
          },
          "metadata": {},
          "execution_count": 34
        }
      ]
    },
    {
      "cell_type": "markdown",
      "source": [
        "Show LU decomposition"
      ],
      "metadata": {
        "id": "vlenaS7weWVp"
      }
    },
    {
      "cell_type": "code",
      "source": [
        "a = np.random.randn(3,4)\n",
        "p,l,u = scipy.linalg.lu(a)\n",
        "print(p)\n",
        "print(l)\n",
        "print(u)"
      ],
      "metadata": {
        "colab": {
          "base_uri": "https://localhost:8080/"
        },
        "id": "9GQ1vjOMeezy",
        "outputId": "1173fcc2-6e2b-42d3-8b5f-9c9b78f3495e"
      },
      "execution_count": 35,
      "outputs": [
        {
          "output_type": "stream",
          "name": "stdout",
          "text": [
            "[[0. 0. 1.]\n",
            " [0. 1. 0.]\n",
            " [1. 0. 0.]]\n",
            "[[ 1.          0.          0.        ]\n",
            " [-0.21880936  1.          0.        ]\n",
            " [-0.26295089  0.83827213  1.        ]]\n",
            "[[-2.81160152  0.02814613 -1.50175795 -1.10912189]\n",
            " [ 0.         -1.05953994  0.81849686 -0.7242701 ]\n",
            " [ 0.          0.         -1.44728658  1.40022812]]\n"
          ]
        }
      ]
    },
    {
      "cell_type": "markdown",
      "source": [
        "Show QR decomposition"
      ],
      "metadata": {
        "id": "o3fgqGaPfE8h"
      }
    },
    {
      "cell_type": "code",
      "source": [
        "a = np.random.randn(3,4)\n",
        "q,r = np.linalg.qr(a)\n",
        "print(q)\n",
        "print(r)"
      ],
      "metadata": {
        "colab": {
          "base_uri": "https://localhost:8080/"
        },
        "id": "VEi4o-m3gOpg",
        "outputId": "1aa9bc16-d7cf-4718-b204-fbb28826c547"
      },
      "execution_count": 36,
      "outputs": [
        {
          "output_type": "stream",
          "name": "stdout",
          "text": [
            "[[-0.71417816  0.18198865  0.67589178]\n",
            " [-0.23632971 -0.97160013  0.01189344]\n",
            " [ 0.65886101 -0.15123927  0.73690492]]\n",
            "[[ 3.3224333   0.78695638  0.51553929  0.1035281 ]\n",
            " [ 0.         -0.2330004  -1.80804112  0.5542906 ]\n",
            " [ 0.          0.          1.83224094  0.66898584]]\n"
          ]
        }
      ]
    }
  ]
}