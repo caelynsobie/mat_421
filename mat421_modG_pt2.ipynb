{
  "nbformat": 4,
  "nbformat_minor": 0,
  "metadata": {
    "colab": {
      "name": "mat421_modG_pt2",
      "provenance": []
    },
    "kernelspec": {
      "name": "python3",
      "display_name": "Python 3"
    },
    "language_info": {
      "name": "python"
    }
  },
  "cells": [
    {
      "cell_type": "markdown",
      "source": [
        "Use Simpson’s Rule to approximate $\\int_0^\\pi sin(x) dx$ with 11 evenly spaced grid points over the whole interval. Compare this value to the exact value of 2."
      ],
      "metadata": {
        "id": "kHKKd1wB3zvJ"
      }
    },
    {
      "cell_type": "code",
      "execution_count": 1,
      "metadata": {
        "colab": {
          "base_uri": "https://localhost:8080/"
        },
        "id": "cPe6ewZW3ohL",
        "outputId": "0aa076c2-fa18-4ccc-f1a5-c3e70b27136f"
      },
      "outputs": [
        {
          "output_type": "stream",
          "name": "stdout",
          "text": [
            "2.0001095173150043\n",
            "-0.00010951731500430384\n"
          ]
        }
      ],
      "source": [
        "import numpy as np\n",
        "\n",
        "a = 0\n",
        "b = np.pi\n",
        "n = 11\n",
        "h = (b - a) / (n - 1)\n",
        "x = np.linspace(a, b, n)\n",
        "f = np.sin(x)\n",
        "\n",
        "I_simp = (h/3) * (f[0] + 2*sum(f[:n-2:2]) \\\n",
        "            + 4*sum(f[1:n-1:2]) + f[n-1])\n",
        "err_simp = 2 - I_simp\n",
        "\n",
        "print(I_simp)\n",
        "print(err_simp)"
      ]
    },
    {
      "cell_type": "markdown",
      "source": [
        "Use the 𝑖𝑛𝑡𝑒𝑔𝑟𝑎𝑡𝑒.𝑞𝑢𝑎𝑑 function to compute $\\int_0^\\pi sin(x) dx$. Compare your answer with the correct answer of 2."
      ],
      "metadata": {
        "id": "x0YbWI5o544k"
      }
    },
    {
      "cell_type": "code",
      "source": [
        "from scipy.integrate import quad \n",
        "\n",
        "I_quad, est_err_quad = \\\n",
        "          quad(np.sin, 0, np.pi)\n",
        "print(I_quad)\n",
        "err_quad = 2 - I_quad\n",
        "print(est_err_quad, err_quad)"
      ],
      "metadata": {
        "colab": {
          "base_uri": "https://localhost:8080/"
        },
        "id": "dTDIrxCV6Ece",
        "outputId": "468aa9ab-09cb-41a4-9cc9-f3304e75a645"
      },
      "execution_count": 2,
      "outputs": [
        {
          "output_type": "stream",
          "name": "stdout",
          "text": [
            "2.0\n",
            "2.220446049250313e-14 0.0\n"
          ]
        }
      ]
    }
  ]
}