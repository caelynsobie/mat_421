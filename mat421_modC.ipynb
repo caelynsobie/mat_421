{
  "nbformat": 4,
  "nbformat_minor": 0,
  "metadata": {
    "colab": {
      "name": "mat421_modC",
      "provenance": []
    },
    "kernelspec": {
      "name": "python3",
      "display_name": "Python 3"
    },
    "language_info": {
      "name": "python"
    }
  },
  "cells": [
    {
      "cell_type": "markdown",
      "source": [
        "Using fsolve function from scipy to compute the root of f(x)=cos(x)−x near −2. Verify that the solution is a root (or close enough).\n",
        "\n"
      ],
      "metadata": {
        "id": "pG5uG4H_YdNM"
      }
    },
    {
      "cell_type": "code",
      "execution_count": 1,
      "metadata": {
        "id": "5njUVI9TYXoZ"
      },
      "outputs": [],
      "source": [
        "import numpy as np\n",
        "from scipy import optimize"
      ]
    },
    {
      "cell_type": "code",
      "source": [
        "f = lambda x: np.cos(x) - x\n",
        "r = optimize.fsolve(f,-2)\n",
        "print(\"r =\", r)\n",
        "\n",
        "# verify the solution is a root\n",
        "result = f(r)\n",
        "print(\"result=\", result)"
      ],
      "metadata": {
        "colab": {
          "base_uri": "https://localhost:8080/"
        },
        "id": "VN_FD9EfZATU",
        "outputId": "bd734bc5-a0f8-4ea8-e60a-aa387f248d77"
      },
      "execution_count": 2,
      "outputs": [
        {
          "output_type": "stream",
          "name": "stdout",
          "text": [
            "r = [0.73908513]\n",
            "result= [0.]\n"
          ]
        }
      ]
    },
    {
      "cell_type": "markdown",
      "source": [
        "The function f(x)=1/x has no root. Use the fsolve function to try to compute the root of f(x)=1/x. Turn on the full_output to see what’s going on. Remember to check the documentation for details."
      ],
      "metadata": {
        "id": "ufg_TnVqZh8W"
      }
    },
    {
      "cell_type": "code",
      "source": [
        "f  = lambda x: 1/x\n",
        "r, infodict, ier, mesg = optimize.fsolve(f, -2, full_output = True)\n",
        "print(\"r= \", r)\n",
        "\n",
        "result = f(r)\n",
        "print(\"result=\", result)\n",
        "\n",
        "print(mesg)"
      ],
      "metadata": {
        "colab": {
          "base_uri": "https://localhost:8080/"
        },
        "id": "QUOoEaTfZnqL",
        "outputId": "e3d1d981-e40f-4d8b-b294-431410190e5e"
      },
      "execution_count": 3,
      "outputs": [
        {
          "output_type": "stream",
          "name": "stdout",
          "text": [
            "r=  [-3.52047359e+83]\n",
            "result= [-2.84052692e-84]\n",
            "The number of calls to function has reached maxfev = 400.\n"
          ]
        }
      ]
    },
    {
      "cell_type": "markdown",
      "source": [
        "Program a function my_bisection(f, a, b, tol) that approximates a root r of f, bounded by a and b to within |f((a+b)/2)|<tol."
      ],
      "metadata": {
        "id": "biFA75nqaZhn"
      }
    },
    {
      "cell_type": "code",
      "source": [
        "import numpy as np"
      ],
      "metadata": {
        "id": "XG6AZQjIafh2"
      },
      "execution_count": 4,
      "outputs": []
    },
    {
      "cell_type": "code",
      "source": [
        "def my_bisection(f, a, b, tol):\n",
        "  '''\n",
        "  approximates a root, R, of f bounded\n",
        "  by a and b to within tolerance\n",
        "  | f(m) | < tol\n",
        "  between a and b Recursive implementation\n",
        "\n",
        "  check if a and b bound a root\n",
        "  '''\n",
        "  if np.sign(f(a)) == np.sign(f(b)):\n",
        "    raise Exception(\n",
        "        \"The scalars a and b do not bound a root\")\n",
        "  \n",
        "  # get midpoint\n",
        "  m = (a + b)/2\n",
        "\n",
        "  if np.abs(f(m)) < tol:\n",
        "    #stopping condition, report m as root\n",
        "    return m\n",
        "  elif np.sign(f(a)) == np.sign(f(m)):\n",
        "    #case where m is an improvement on a.\n",
        "    # make recursive call w/ a = m\n",
        "    return my_bisection(f, m, b, tol)\n",
        "  elif np.sign(f(b)) == np.sign(f(m)):\n",
        "    # case where m is an improvement on b.\n",
        "    # make recursive call with b = m\n",
        "    return my_bisection(f, a, m, tol)"
      ],
      "metadata": {
        "id": "glqccYVLamyJ"
      },
      "execution_count": 14,
      "outputs": []
    },
    {
      "cell_type": "markdown",
      "source": [
        "The √2 can be computed as the root of the function f(x)=x2−2. Starting at a=0 and b=2, use my_bisection to approximate the √2 to a tolerance of |f(x)|<0.1 and |f(x)|<0.01. Verify that the results are close to a root by plugging the root back into the function."
      ],
      "metadata": {
        "id": "m0lmEAXxb9rn"
      }
    },
    {
      "cell_type": "code",
      "source": [
        "f = lambda x: x**2 - 2\n",
        "\n",
        "r1 = my_bisection(f, 0, 2, 0.1)\n",
        "print(\"r1 =\", r1)\n",
        "r01 = my_bisection(f, 0, 2, 0.01)\n",
        "print(\"r01 =\", r01)\n",
        "\n",
        "print(\"f(r1)=\", f(r1))\n",
        "print(\"f(r01)=\", f(r01))"
      ],
      "metadata": {
        "colab": {
          "base_uri": "https://localhost:8080/"
        },
        "id": "4fdf5ItBc45l",
        "outputId": "5ced606e-ba10-43ea-fe72-6632408a7451"
      },
      "execution_count": 15,
      "outputs": [
        {
          "output_type": "stream",
          "name": "stdout",
          "text": [
            "r1 = 1.4375\n",
            "r01 = 1.4140625\n",
            "f(r1)= 0.06640625\n",
            "f(r01)= -0.00042724609375\n"
          ]
        }
      ]
    },
    {
      "cell_type": "markdown",
      "source": [
        "See what will happen if you use a=2 and b=4 for the above function."
      ],
      "metadata": {
        "id": "ZplYmY4ed1KJ"
      }
    },
    {
      "cell_type": "code",
      "source": [
        "my_bisection(f, 2, 4, 0.01)"
      ],
      "metadata": {
        "colab": {
          "base_uri": "https://localhost:8080/",
          "height": 287
        },
        "id": "njCzEw34d1vR",
        "outputId": "81357510-2d07-45a7-903e-9ced558b1238"
      },
      "execution_count": 16,
      "outputs": [
        {
          "output_type": "error",
          "ename": "Exception",
          "evalue": "ignored",
          "traceback": [
            "\u001b[0;31m---------------------------------------------------------------------------\u001b[0m",
            "\u001b[0;31mException\u001b[0m                                 Traceback (most recent call last)",
            "\u001b[0;32m<ipython-input-16-4158b7a9ae67>\u001b[0m in \u001b[0;36m<module>\u001b[0;34m()\u001b[0m\n\u001b[0;32m----> 1\u001b[0;31m \u001b[0mmy_bisection\u001b[0m\u001b[0;34m(\u001b[0m\u001b[0mf\u001b[0m\u001b[0;34m,\u001b[0m \u001b[0;36m2\u001b[0m\u001b[0;34m,\u001b[0m \u001b[0;36m4\u001b[0m\u001b[0;34m,\u001b[0m \u001b[0;36m0.01\u001b[0m\u001b[0;34m)\u001b[0m\u001b[0;34m\u001b[0m\u001b[0;34m\u001b[0m\u001b[0m\n\u001b[0m",
            "\u001b[0;32m<ipython-input-14-b6eb766d15fc>\u001b[0m in \u001b[0;36mmy_bisection\u001b[0;34m(f, a, b, tol)\u001b[0m\n\u001b[1;32m     10\u001b[0m   \u001b[0;32mif\u001b[0m \u001b[0mnp\u001b[0m\u001b[0;34m.\u001b[0m\u001b[0msign\u001b[0m\u001b[0;34m(\u001b[0m\u001b[0mf\u001b[0m\u001b[0;34m(\u001b[0m\u001b[0ma\u001b[0m\u001b[0;34m)\u001b[0m\u001b[0;34m)\u001b[0m \u001b[0;34m==\u001b[0m \u001b[0mnp\u001b[0m\u001b[0;34m.\u001b[0m\u001b[0msign\u001b[0m\u001b[0;34m(\u001b[0m\u001b[0mf\u001b[0m\u001b[0;34m(\u001b[0m\u001b[0mb\u001b[0m\u001b[0;34m)\u001b[0m\u001b[0;34m)\u001b[0m\u001b[0;34m:\u001b[0m\u001b[0;34m\u001b[0m\u001b[0;34m\u001b[0m\u001b[0m\n\u001b[1;32m     11\u001b[0m     raise Exception(\n\u001b[0;32m---> 12\u001b[0;31m         \"The scalars a and b do not bound a root\")\n\u001b[0m\u001b[1;32m     13\u001b[0m \u001b[0;34m\u001b[0m\u001b[0m\n\u001b[1;32m     14\u001b[0m   \u001b[0;31m# get midpoint\u001b[0m\u001b[0;34m\u001b[0m\u001b[0;34m\u001b[0m\u001b[0;34m\u001b[0m\u001b[0m\n",
            "\u001b[0;31mException\u001b[0m: The scalars a and b do not bound a root"
          ]
        }
      ]
    },
    {
      "cell_type": "markdown",
      "source": [
        "Again, the √2 is the root of the function f(x)=x2−2. Using x0=1.4 as a starting point, use the previous equation to estimate √2. Compare this approximation with the value computed by Python’s sqrt function."
      ],
      "metadata": {
        "id": "w1okAAsAeDx3"
      }
    },
    {
      "cell_type": "code",
      "source": [
        "import numpy as np"
      ],
      "metadata": {
        "id": "qe_T8j1veKbr"
      },
      "execution_count": 17,
      "outputs": []
    },
    {
      "cell_type": "code",
      "source": [
        "f = lambda x: x**2 - 2\n",
        "f_prime = lambda x: 2*x\n",
        "newton_raphson = 1.4 - (f(1.4))/(f_prime(1.4))\n",
        "\n",
        "print(\"newton_raphson =\", newton_raphson)\n",
        "print(\"sqrt(2) =\", np.sqrt(2))"
      ],
      "metadata": {
        "colab": {
          "base_uri": "https://localhost:8080/"
        },
        "id": "6Ei2t1_ZeQDI",
        "outputId": "9a1af3dd-588a-4ffb-cdc5-a5eb502e3f3b"
      },
      "execution_count": 18,
      "outputs": [
        {
          "output_type": "stream",
          "name": "stdout",
          "text": [
            "newton_raphson = 1.4142857142857144\n",
            "sqrt(2) = 1.4142135623730951\n"
          ]
        }
      ]
    },
    {
      "cell_type": "markdown",
      "source": [
        "Write a function my_newton(f,df,x0,tol), where the output is an estimation of the root of f, f is a function object f(x), df is a function object to f′(x), x0 is an initial guess, and tol is the error tolerance. The error measurement should be |f(x)|."
      ],
      "metadata": {
        "id": "rxXQPXmlew4Z"
      }
    },
    {
      "cell_type": "code",
      "source": [
        "def my_newton(f, df, x0, tol):\n",
        "  '''\n",
        "  output is an estimation of the root of f\n",
        "  using the Newton Raphson method\n",
        "  recursive implementation\n",
        "  '''\n",
        "  if abs(f(x0)) < tol:\n",
        "    return x0\n",
        "  else:\n",
        "    return my_newton(f, df, x0 - f(x0)/df(x0), tol)"
      ],
      "metadata": {
        "id": "VAeHatL0e0jn"
      },
      "execution_count": 22,
      "outputs": []
    },
    {
      "cell_type": "markdown",
      "source": [
        "Use my_newton= to compute √2 to within tolerance of 1e-6 starting at x0 = 1.5."
      ],
      "metadata": {
        "id": "q5p4voXMfT9b"
      }
    },
    {
      "cell_type": "code",
      "source": [
        "estimate = my_newton(f, f_prime, 1.5, 1e-6)\n",
        "print(\"estimate =\", estimate)\n",
        "print(\"sqrt(2) =\", np.sqrt(2))"
      ],
      "metadata": {
        "colab": {
          "base_uri": "https://localhost:8080/"
        },
        "id": "VW4VHwErfX-n",
        "outputId": "2463a74f-b205-4996-b6d4-95aab8f8e1b0"
      },
      "execution_count": 23,
      "outputs": [
        {
          "output_type": "stream",
          "name": "stdout",
          "text": [
            "estimate = 1.4142135623746899\n",
            "sqrt(2) = 1.4142135623730951\n"
          ]
        }
      ]
    },
    {
      "cell_type": "markdown",
      "source": [
        "Compute a single Newton step to get an improved approximation of the root of the function $f(x)=x^3+3x^2−2x−5$ and an initial guess, $x_0=0.29$."
      ],
      "metadata": {
        "id": "Z9DSFj9hfxOF"
      }
    },
    {
      "cell_type": "code",
      "source": [
        "x0 = 0.29\n",
        "x1 = x0-(x0**3+3*x0**2-2*x0-5)/(3*x0**2+6*x0-2)\n",
        "print(\"x1 =\", x1)"
      ],
      "metadata": {
        "colab": {
          "base_uri": "https://localhost:8080/"
        },
        "id": "Tb7NEEaSf-GU",
        "outputId": "c71213ad-0a16-44b5-9b54-a03ab41e3ae8"
      },
      "execution_count": 24,
      "outputs": [
        {
          "output_type": "stream",
          "name": "stdout",
          "text": [
            "x1 = -688.4516883116648\n"
          ]
        }
      ]
    },
    {
      "cell_type": "markdown",
      "source": [
        " Compute the root of the function $f(x)=x^3−100x^2−x+100$ using f_solve."
      ],
      "metadata": {
        "id": "FeyPgZtbgU41"
      }
    },
    {
      "cell_type": "code",
      "source": [
        "from scipy.optimize import fsolve"
      ],
      "metadata": {
        "id": "kDWqUMvOgcmN"
      },
      "execution_count": 25,
      "outputs": []
    },
    {
      "cell_type": "code",
      "source": [
        "f = lambda x: x**3-100*x**2-x+100\n",
        "fsolve(f,[2,80])"
      ],
      "metadata": {
        "colab": {
          "base_uri": "https://localhost:8080/"
        },
        "id": "k80ASVzvggO7",
        "outputId": "bf6c3b8b-ee1a-4e38-c706-7f8c936789af"
      },
      "execution_count": 26,
      "outputs": [
        {
          "output_type": "execute_result",
          "data": {
            "text/plain": [
              "array([  1., 100.])"
            ]
          },
          "metadata": {},
          "execution_count": 26
        }
      ]
    }
  ]
}